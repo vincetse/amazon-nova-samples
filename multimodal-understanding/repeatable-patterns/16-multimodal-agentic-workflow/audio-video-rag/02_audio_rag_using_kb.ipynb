{
 "cells": [
  {
   "cell_type": "markdown",
   "metadata": {
    "vscode": {
     "languageId": "plaintext"
    }
   },
   "source": [
    "# Integrate with Amazon Bedrock Knowledge Bases:\n",
    "After processed the audio and video files with a BDA project, next it is time to integrate with Bedrock KB.\n",
    "## Steps involved in this integration: \n",
    "- Set up a knowledge base to parse documents using Amazon Bedrock Data Automation as the parser.\n",
    "- Ingest the processed data into the knowledge base for retrieval and response generation."
   ]
  },
  {
   "cell_type": "markdown",
   "metadata": {},
   "source": [
    "<div class=\"alert alert-block alert-info\">\n",
    "<b>Note:</b> Please run this notebook after you finish running the first notebook: 01_data_prep_using_bda.ipynb, the notebook cell one at a time instead of using \"Run All Cells\" option.\n",
    "</div>"
   ]
  },
  {
   "cell_type": "markdown",
   "metadata": {},
   "source": [
    "# Setup notebook and boto3 clients\n",
    "\n",
    "In this step, we will import some necessary libraries that will be used throughout this notebook. To use Amazon Bedrock Data Automation (BDA) with boto3, you'll need to ensure you have the latest version of the AWS SDK for Python (boto3) installed. Version Boto3 1.35.96 of later is required.\n",
    "\n",
    "Note: At time of Public Preview launch, BDA is available in us-west-2 only."
   ]
  },
  {
   "cell_type": "code",
   "execution_count": 21,
   "metadata": {},
   "outputs": [
    {
     "name": "stdout",
     "output_type": "stream",
     "text": [
      "Note: you may need to restart the kernel to use updated packages.\n"
     ]
    }
   ],
   "source": [
    "%pip install -r ../requirements.txt --no-deps --quiet"
   ]
  },
  {
   "cell_type": "code",
   "execution_count": 22,
   "metadata": {},
   "outputs": [
    {
     "data": {
      "text/html": [
       "<script>Jupyter.notebook.kernel.restart()</script>"
      ],
      "text/plain": [
       "<IPython.core.display.HTML object>"
      ]
     },
     "execution_count": 22,
     "metadata": {},
     "output_type": "execute_result"
    }
   ],
   "source": [
    "# restart kernel\n",
    "from IPython.core.display import HTML\n",
    "HTML(\"<script>Jupyter.notebook.kernel.restart()</script>\")"
   ]
  },
  {
   "cell_type": "code",
   "execution_count": 23,
   "metadata": {},
   "outputs": [
    {
     "name": "stdout",
     "output_type": "stream",
     "text": [
      "The autoreload extension is already loaded. To reload it, use:\n",
      "  %reload_ext autoreload\n"
     ]
    }
   ],
   "source": [
    "%load_ext autoreload\n",
    "%autoreload 2\n",
    "\n",
    "import warnings\n",
    "warnings.filterwarnings('ignore')"
   ]
  },
  {
   "cell_type": "code",
   "execution_count": 24,
   "metadata": {},
   "outputs": [],
   "source": [
    "import boto3\n",
    "from botocore.exceptions import ClientError\n",
    "from datetime import datetime\n",
    "import time\n",
    "from time import sleep\n",
    "import pprint\n",
    "import random\n",
    "from tqdm import tqdm\n",
    "from pathlib import Path\n",
    "from IPython.display import JSON, IFrame, Audio, display, clear_output\n",
    "import IPython.display as display\n",
    "import logging\n",
    "import sys\n",
    "from pathlib import Path\n",
    "import base64\n",
    "\n",
    "# Get current path and go up two parent directories\n",
    "current_path = Path().resolve()\n",
    "parent_path = current_path.parent  # Go up two levels\n",
    "\n",
    "# Add to sys.path if not already there\n",
    "if str(parent_path) not in sys.path:\n",
    "    sys.path.append(str(parent_path))\n",
    "\n",
    "# Now you can import from utils\n",
    "from utils.knowledge_base import BedrockKnowledgeBase"
   ]
  },
  {
   "cell_type": "code",
   "execution_count": 25,
   "metadata": {},
   "outputs": [],
   "source": [
    "#Clients\n",
    "suffix = random.randrange(200, 900)\n",
    "\n",
    "sts_client = boto3.client('sts')\n",
    "account_id = sts_client.get_caller_identity()[\"Account\"]\n",
    "\n",
    "region_name = \"us-east-1\" # can be removed ones BDA is GA and available in other regions.\n",
    "region = region_name\n",
    "\n",
    "s3_client = boto3.client('s3', region_name=region_name)\n",
    "\n",
    "bda_client = boto3.client('bedrock-data-automation', region_name=region_name)\n",
    "bda_runtime_client = boto3.client('bedrock-data-automation-runtime', region_name=region_name)\n",
    "\n",
    "bedrock_agent_client = boto3.client('bedrock-agent')\n",
    "bedrock_agent_runtime_client = boto3.client('bedrock-agent-runtime') \n",
    "\n",
    "logging.basicConfig(format='[%(asctime)s] p%(process)s {%(filename)s:%(lineno)d} %(levelname)s - %(message)s', level=logging.INFO)\n",
    "logger = logging.getLogger(__name__)"
   ]
  },
  {
   "cell_type": "code",
   "execution_count": 27,
   "metadata": {},
   "outputs": [
    {
     "name": "stdout",
     "output_type": "stream",
     "text": [
      "Bucket 'bedrock-bda-kb-879-2' does not exist. Creating it now...\n",
      "Bucket 'bedrock-bda-kb-879-2' created successfully.\n"
     ]
    }
   ],
   "source": [
    "# Copy local BDA output files to a S3 bucket for KB integration\n",
    "# Function to check if the bucket exists, if not, create the data_bucket\n",
    "from utils.knowledge_base_operators import bucket_exists\n",
    "suffix = random.randrange(200, 900)\n",
    "bucket_name_kb = f'bedrock-bda-kb-{suffix}-2'            \n",
    "# Create S3 bucket for the KB if it doesn't exist\n",
    "if not bucket_exists(bucket_name_kb):\n",
    "    print(f\"Bucket '{bucket_name_kb}' does not exist. Creating it now...\")\n",
    "    if region == \"us-east-1\":\n",
    "        s3_client.create_bucket(Bucket=bucket_name_kb)\n",
    "    else:\n",
    "        s3_client.create_bucket(\n",
    "            Bucket=bucket_name_kb,\n",
    "            CreateBucketConfiguration={'LocationConstraint': region}\n",
    "        )\n",
    "    print(f\"Bucket '{bucket_name_kb}' created successfully.\")\n",
    "else:\n",
    "    print(f\"Bucket '{bucket_name_kb}' already exists.\")\n",
    "\n",
    "\n",
    "obj_audio = 'bda/dataset/result_aud.json'  \n",
    "s3_client.upload_file('result_aud.json', bucket_name_kb, obj_audio)\n"
   ]
  },
  {
   "cell_type": "code",
   "execution_count": 28,
   "metadata": {},
   "outputs": [],
   "source": [
    "# Get the current timestamp\n",
    "current_time = time.time()\n",
    "\n",
    "# Format the timestamp as a string\n",
    "timestamp_str = time.strftime(\"%Y%m%d%H%M%S\", time.localtime(current_time))[-7:]\n",
    "# Create the suffix using the timestamp\n",
    "suffix = f\"{timestamp_str}\"\n",
    "\n",
    "knowledge_base_name = f\"bedrock-multi-modal-kb-{suffix}\"\n",
    "knowledge_base_description = \"Multi-modal RAG knowledge base.\"\n",
    "\n",
    "#foundation_model = \"anthropic.claude-3-sonnet-20240229-v1:0\"\n",
    "foundation_model = \"amazon.nova-micro-v1:0\""
   ]
  },
  {
   "cell_type": "markdown",
   "metadata": {},
   "source": [
    "### Start the Knowledge Base creation \n",
    "\n",
    "In this notebook, the process of creating a KB is simplified by using a wrapper function from the knowledge_base.py file in \"utils\" folder of this notebook. The whole process of creating data source, creating a KB, creating an embedding index, saving the index in a vector data store is simplified by using this function. \n"
   ]
  },
  {
   "cell_type": "code",
   "execution_count": 29,
   "metadata": {},
   "outputs": [],
   "source": [
    "## Please uncomment the data sources that you want to add and update the placeholder values accordingly.\n",
    "\n",
    "#data=[{\"type\": \"S3\", \"bucket_name\": bucket_name, \"inclusionPrefixes\": [\"bda/dataset/\"]}]\n",
    "data=[{\"type\": \"S3\", \"bucket_name\": bucket_name_kb}]\n",
    "\n",
    "\n",
    "                # {\"type\": \"SHAREPOINT\", \"tenantId\": \"888d0b57-69f1-4fb8-957f-e1f0bedf64de\", \"domain\": \"yourdomain\",\n",
    "                #   \"authType\": \"OAUTH2_CLIENT_CREDENTIALS\",\n",
    "                #  \"credentialsSecretArn\": f\"arn:aws::secretsmanager:{region_name}:secret:<<your_secret_name>>\",\n",
    "                #  \"siteUrls\": [\"https://yourdomain.sharepoint.com/sites/mysite\"]\n",
    "                # },\n",
    "    \n",
    "                \n",
    "pp = pprint.PrettyPrinter(indent=2)"
   ]
  },
  {
   "cell_type": "markdown",
   "metadata": {},
   "source": [
    "### Step 1 - Create Knowledge Base with Multi modality"
   ]
  },
  {
   "cell_type": "code",
   "execution_count": 30,
   "metadata": {},
   "outputs": [
    {
     "name": "stderr",
     "output_type": "stream",
     "text": [
      "[2025-08-11 19:21:03,886] p9918 {credentials.py:1136} INFO - Found credentials from IAM Role: BaseNotebookInstanceEc2InstanceRole\n",
      "[2025-08-11 19:21:04,076] p9918 {credentials.py:1136} INFO - Found credentials from IAM Role: BaseNotebookInstanceEc2InstanceRole\n"
     ]
    },
    {
     "name": "stdout",
     "output_type": "stream",
     "text": [
      "========================================================================================\n",
      "Step 1 - Creating or retrieving S3 bucket(s) for Knowledge Base documents\n",
      "['bedrock-bda-kb-879-2', 'bedrock-multi-modal-kb-1192056-intermediate-1192056-f']\n",
      "buckets_to_check:  ['bedrock-bda-kb-879-2', 'bedrock-multi-modal-kb-1192056-intermediate-1192056-f']\n",
      "Bucket bedrock-bda-kb-879-2 already exists - retrieving it!\n",
      "Creating bucket bedrock-multi-modal-kb-1192056-intermediate-1192056-f\n",
      "========================================================================================\n",
      "Step 2 - Creating Knowledge Base Execution Role (AmazonBedrockExecutionRoleForKnowledgeBase_1192056-f) and Policies\n",
      "========================================================================================\n",
      "Step 3 - Creating OSS encryption, network and data access policies\n",
      "========================================================================================\n",
      "Step 4 - Creating OSS Collection (this step takes a couple of minutes to complete)\n",
      "{ 'ResponseMetadata': { 'HTTPHeaders': { 'connection': 'keep-alive',\n",
      "                                         'content-length': '320',\n",
      "                                         'content-type': 'application/x-amz-json-1.0',\n",
      "                                         'date': 'Mon, 11 Aug 2025 19:21:05 '\n",
      "                                                 'GMT',\n",
      "                                         'x-amzn-requestid': 'd945c482-607e-4077-8bea-cc104300c815'},\n",
      "                        'HTTPStatusCode': 200,\n",
      "                        'RequestId': 'd945c482-607e-4077-8bea-cc104300c815',\n",
      "                        'RetryAttempts': 0},\n",
      "  'createCollectionDetail': { 'arn': 'arn:aws:aoss:us-east-1:885964308737:collection/puqqj38as5lqwd4bgmsg',\n",
      "                              'createdDate': 1754940065294,\n",
      "                              'id': 'puqqj38as5lqwd4bgmsg',\n",
      "                              'kmsKeyArn': 'auto',\n",
      "                              'lastModifiedDate': 1754940065294,\n",
      "                              'name': 'bedrock-sample-rag-1192056-f',\n",
      "                              'standbyReplicas': 'ENABLED',\n",
      "                              'status': 'CREATING',\n",
      "                              'type': 'VECTORSEARCH'}}\n",
      "puqqj38as5lqwd4bgmsg.us-east-1.aoss.amazonaws.com\n",
      "Creating collection...\n",
      "..............................\n",
      "Collection successfully created:\n",
      "[ { 'arn': 'arn:aws:aoss:us-east-1:885964308737:collection/puqqj38as5lqwd4bgmsg',\n",
      "    'collectionEndpoint': 'https://puqqj38as5lqwd4bgmsg.us-east-1.aoss.amazonaws.com',\n",
      "    'createdDate': 1754940065294,\n",
      "    'dashboardEndpoint': 'https://puqqj38as5lqwd4bgmsg.us-east-1.aoss.amazonaws.com/_dashboards',\n",
      "    'id': 'puqqj38as5lqwd4bgmsg',\n",
      "    'kmsKeyArn': 'auto',\n",
      "    'lastModifiedDate': 1754940088812,\n",
      "    'name': 'bedrock-sample-rag-1192056-f',\n",
      "    'standbyReplicas': 'ENABLED',\n",
      "    'status': 'ACTIVE',\n",
      "    'type': 'VECTORSEARCH'}]\n",
      "Opensearch serverless arn:  arn:aws:iam::885964308737:policy/AmazonBedrockOSSPolicyForKnowledgeBase_1192056-f\n",
      "Sleeping for a minute to ensure data access rules have been enforced\n",
      "========================================================================================\n",
      "Step 5 - Creating OSS Vector Index\n"
     ]
    },
    {
     "name": "stderr",
     "output_type": "stream",
     "text": [
      "[2025-08-11 19:22:39,384] p9918 {base.py:258} INFO - PUT https://puqqj38as5lqwd4bgmsg.us-east-1.aoss.amazonaws.com:443/bedrock-sample-rag-index-1192056-f [status:200 request:3.687s]\n"
     ]
    },
    {
     "name": "stdout",
     "output_type": "stream",
     "text": [
      "\n",
      "Creating index:\n",
      "{ 'acknowledged': True,\n",
      "  'index': 'bedrock-sample-rag-index-1192056-f',\n",
      "  'shards_acknowledged': True}\n",
      "========================================================================================\n",
      "Step 6 - Will create Lambda Function if chunking strategy selected as CUSTOM\n",
      "Not creating lambda function as chunking strategy is FIXED_SIZE\n",
      "========================================================================================\n",
      "Step 7 - Creating Knowledge Base\n",
      "{ 'createdAt': datetime.datetime(2025, 8, 11, 19, 23, 39, 574334, tzinfo=tzlocal()),\n",
      "  'description': 'Multi-modal RAG knowledge base.',\n",
      "  'knowledgeBaseArn': 'arn:aws:bedrock:us-east-1:885964308737:knowledge-base/NJOMK6Q7SR',\n",
      "  'knowledgeBaseConfiguration': { 'type': 'VECTOR',\n",
      "                                  'vectorKnowledgeBaseConfiguration': { 'embeddingModelArn': 'arn:aws:bedrock:us-east-1::foundation-model/amazon.titan-embed-text-v2:0',\n",
      "                                                                        'supplementalDataStorageConfiguration': { 'storageLocations': [ { 's3Location': { 'uri': 's3://bedrock-multi-modal-kb-1192056-intermediate-1192056-f'},\n",
      "                                                                                                                                          'type': 'S3'}]}}},\n",
      "  'knowledgeBaseId': 'NJOMK6Q7SR',\n",
      "  'name': 'bedrock-multi-modal-kb-1192056',\n",
      "  'roleArn': 'arn:aws:iam::885964308737:role/AmazonBedrockExecutionRoleForKnowledgeBase_1192056-f',\n",
      "  'status': 'CREATING',\n",
      "  'storageConfiguration': { 'opensearchServerlessConfiguration': { 'collectionArn': 'arn:aws:aoss:us-east-1:885964308737:collection/puqqj38as5lqwd4bgmsg',\n",
      "                                                                   'fieldMapping': { 'metadataField': 'text-metadata',\n",
      "                                                                                     'textField': 'text',\n",
      "                                                                                     'vectorField': 'vector'},\n",
      "                                                                   'vectorIndexName': 'bedrock-sample-rag-index-1192056-f'},\n",
      "                            'type': 'OPENSEARCH_SERVERLESS'},\n",
      "  'updatedAt': datetime.datetime(2025, 8, 11, 19, 23, 39, 574334, tzinfo=tzlocal())}\n",
      "Creating Data Sources\n",
      "{ 'createdAt': datetime.datetime(2025, 8, 11, 19, 23, 39, 574334, tzinfo=tzlocal()),\n",
      "  'description': 'Multi-modal RAG knowledge base.',\n",
      "  'knowledgeBaseArn': 'arn:aws:bedrock:us-east-1:885964308737:knowledge-base/NJOMK6Q7SR',\n",
      "  'knowledgeBaseConfiguration': { 'type': 'VECTOR',\n",
      "                                  'vectorKnowledgeBaseConfiguration': { 'embeddingModelArn': 'arn:aws:bedrock:us-east-1::foundation-model/amazon.titan-embed-text-v2:0',\n",
      "                                                                        'supplementalDataStorageConfiguration': { 'storageLocations': [ { 's3Location': { 'uri': 's3://bedrock-multi-modal-kb-1192056-intermediate-1192056-f'},\n",
      "                                                                                                                                          'type': 'S3'}]}}},\n",
      "  'knowledgeBaseId': 'NJOMK6Q7SR',\n",
      "  'name': 'bedrock-multi-modal-kb-1192056',\n",
      "  'roleArn': 'arn:aws:iam::885964308737:role/AmazonBedrockExecutionRoleForKnowledgeBase_1192056-f',\n",
      "  'status': 'ACTIVE',\n",
      "  'storageConfiguration': { 'opensearchServerlessConfiguration': { 'collectionArn': 'arn:aws:aoss:us-east-1:885964308737:collection/puqqj38as5lqwd4bgmsg',\n",
      "                                                                   'fieldMapping': { 'metadataField': 'text-metadata',\n",
      "                                                                                     'textField': 'text',\n",
      "                                                                                     'vectorField': 'vector'},\n",
      "                                                                   'vectorIndexName': 'bedrock-sample-rag-index-1192056-f'},\n",
      "                            'type': 'OPENSEARCH_SERVERLESS'},\n",
      "  'updatedAt': datetime.datetime(2025, 8, 11, 19, 23, 39, 574334, tzinfo=tzlocal())}\n",
      "Creating Data Sources\n",
      "1 data source: S3\n",
      "============Chunking config========\n",
      " {'chunkingConfiguration': {'chunkingStrategy': 'FIXED_SIZE', 'fixedSizeChunkingConfiguration': {'maxTokens': 300, 'overlapPercentage': 20}}}\n",
      "{ 'createdAt': datetime.datetime(2025, 8, 11, 19, 23, 42, 951423, tzinfo=tzlocal()),\n",
      "  'dataDeletionPolicy': 'DELETE',\n",
      "  'dataSourceConfiguration': { 's3Configuration': { 'bucketArn': 'arn:aws:s3:::bedrock-bda-kb-879-2'},\n",
      "                               'type': 'S3'},\n",
      "  'dataSourceId': 'ZRFD9H6VZK',\n",
      "  'description': 'Multi-modal RAG knowledge base.',\n",
      "  'knowledgeBaseId': 'NJOMK6Q7SR',\n",
      "  'name': 'NJOMK6Q7SR-s3',\n",
      "  'status': 'AVAILABLE',\n",
      "  'updatedAt': datetime.datetime(2025, 8, 11, 19, 23, 42, 951423, tzinfo=tzlocal()),\n",
      "  'vectorIngestionConfiguration': { 'chunkingConfiguration': { 'chunkingStrategy': 'FIXED_SIZE',\n",
      "                                                               'fixedSizeChunkingConfiguration': { 'maxTokens': 300,\n",
      "                                                                                                   'overlapPercentage': 20}},\n",
      "                                    'parsingConfiguration': { 'bedrockDataAutomationConfiguration': { 'parsingModality': 'MULTIMODAL'},\n",
      "                                                              'parsingStrategy': 'BEDROCK_DATA_AUTOMATION'}}}\n",
      "[ { 'createdAt': datetime.datetime(2025, 8, 11, 19, 23, 42, 951423, tzinfo=tzlocal()),\n",
      "    'dataDeletionPolicy': 'DELETE',\n",
      "    'dataSourceConfiguration': { 's3Configuration': { 'bucketArn': 'arn:aws:s3:::bedrock-bda-kb-879-2'},\n",
      "                                 'type': 'S3'},\n",
      "    'dataSourceId': 'ZRFD9H6VZK',\n",
      "    'description': 'Multi-modal RAG knowledge base.',\n",
      "    'knowledgeBaseId': 'NJOMK6Q7SR',\n",
      "    'name': 'NJOMK6Q7SR-s3',\n",
      "    'status': 'AVAILABLE',\n",
      "    'updatedAt': datetime.datetime(2025, 8, 11, 19, 23, 42, 951423, tzinfo=tzlocal()),\n",
      "    'vectorIngestionConfiguration': { 'chunkingConfiguration': { 'chunkingStrategy': 'FIXED_SIZE',\n",
      "                                                                 'fixedSizeChunkingConfiguration': { 'maxTokens': 300,\n",
      "                                                                                                     'overlapPercentage': 20}},\n",
      "                                      'parsingConfiguration': { 'bedrockDataAutomationConfiguration': { 'parsingModality': 'MULTIMODAL'},\n",
      "                                                                'parsingStrategy': 'BEDROCK_DATA_AUTOMATION'}}}]\n",
      "========================================================================================\n"
     ]
    }
   ],
   "source": [
    "# For multi-modal RAG While instantiating BedrockKnowledgeBase, pass multi_modal= True and choose the parser you want to use\n",
    "\n",
    "knowledge_base = BedrockKnowledgeBase(\n",
    "    kb_name=f'{knowledge_base_name}',\n",
    "    kb_description=knowledge_base_description,\n",
    "    data_sources=data,\n",
    "    multi_modal= True,\n",
    "    parser= 'BEDROCK_DATA_AUTOMATION', #'BEDROCK_Data Automation service is used'\n",
    "    chunking_strategy = \"FIXED_SIZE\", \n",
    "    suffix = f'{suffix}-f'\n",
    ")"
   ]
  },
  {
   "cell_type": "markdown",
   "metadata": {},
   "source": [
    "### Step 2 - Start data ingestion job to KB\n",
    "\n",
    "Once the KB and data source(s) created, we can start the ingestion job for each data source. During the ingestion job, KB will fetch the documents from the data source, Parse the document to extract text, chunk it based on the chunking size provided, create embeddings of each chunk and then write it to the vector database, in this case OSS.\n",
    "\n",
    "NOTE: Currently, you can only kick-off one ingestion job at one time."
   ]
  },
  {
   "cell_type": "code",
   "execution_count": 31,
   "metadata": {},
   "outputs": [
    {
     "name": "stdout",
     "output_type": "stream",
     "text": [
      "job 1 started successfully\n",
      "\n",
      "{ 'dataSourceId': 'ZRFD9H6VZK',\n",
      "  'ingestionJobId': 'HAO6AKTRYA',\n",
      "  'knowledgeBaseId': 'NJOMK6Q7SR',\n",
      "  'startedAt': datetime.datetime(2025, 8, 11, 19, 24, 14, 858153, tzinfo=tzlocal()),\n",
      "  'statistics': { 'numberOfDocumentsDeleted': 0,\n",
      "                  'numberOfDocumentsFailed': 0,\n",
      "                  'numberOfDocumentsScanned': 1,\n",
      "                  'numberOfMetadataDocumentsModified': 0,\n",
      "                  'numberOfMetadataDocumentsScanned': 0,\n",
      "                  'numberOfModifiedDocumentsIndexed': 0,\n",
      "                  'numberOfNewDocumentsIndexed': 1},\n",
      "  'status': 'COMPLETE',\n",
      "  'updatedAt': datetime.datetime(2025, 8, 11, 19, 24, 31, 484590, tzinfo=tzlocal())}\n",
      "........................................"
     ]
    }
   ],
   "source": [
    "# ensure that the kb is available\n",
    "time.sleep(30)\n",
    "# sync knowledge base\n",
    "knowledge_base.start_ingestion_job()"
   ]
  },
  {
   "cell_type": "code",
   "execution_count": 32,
   "metadata": {},
   "outputs": [
    {
     "name": "stdout",
     "output_type": "stream",
     "text": [
      "'NJOMK6Q7SR'\n",
      "Stored 'kb_id' (str)\n"
     ]
    }
   ],
   "source": [
    "# keep the kb_id for invocation later in the invoke request\n",
    "kb_id = knowledge_base.get_knowledge_base_id()\n",
    "%store kb_id"
   ]
  },
  {
   "cell_type": "markdown",
   "metadata": {},
   "source": [
    "### Step 3 -  Test the Knowledge Base\n",
    "Now the Knowlegde Base is available we can test it out using the [**retrieve**](https://boto3.amazonaws.com/v1/documentation/api/latest/reference/services/bedrock-agent-runtime/client/retrieve.html) and [**retrieve_and_generate**](https://boto3.amazonaws.com/v1/documentation/api/latest/reference/services/bedrock-agent-runtime/client/retrieve_and_generate.html) functions. \n",
    "\n",
    "#### Testing Knowledge Base with Retrieve and Generate API\n",
    "\n",
    "Let's first test the knowledge base using the retrieve and generate API. With this API, Bedrock takes care of retrieving the necessary references from the knowledge base and generating the final answer using a foundation model from Bedrock.\n",
    "\n",
    "query = Give me the summary of the AWS Rethink podcast hosted by Nolan Chen and Malini Chatterjee?\n",
    "\n",
    "The right response for this query is expected to fetch from a the audio transcript ingested in Knowledge Bases."
   ]
  },
  {
   "cell_type": "code",
   "execution_count": 33,
   "metadata": {},
   "outputs": [],
   "source": [
    "query = \"Give me a summary of Amazon's earning\""
   ]
  },
  {
   "cell_type": "code",
   "execution_count": 34,
   "metadata": {},
   "outputs": [
    {
     "name": "stdout",
     "output_type": "stream",
     "text": [
      "In Q3 2024, Amazon reported strong financial results. Here's a summary of the earnings:\n",
      "\n",
      "- **Revenue:** Amazon reported $158.9 billion in revenue, which is up 11% year-over-year.\n",
      "- **Operating Income:** The company's operating income was $17.4 billion, marking a 56% increase year-over-year.\n",
      "- **Free Cash Flow:** Amazon's trailing 12-month free cash flow adjusted for equipment finance leases was $46.1 billion, showing a 128% increase or $25.9 billion year-over-year.\n",
      "- **Stores Business:** Amazon saw sales growth of 9% in North America and 12% internationally. The company continues to lower prices, ship more quickly, and offer Prime member benefits, which are resonating with customers.\n",
      "- **Advertising Segment:** Amazon generated $14.3 billion in advertising revenue, representing an 18.8% year-over-year growth.\n",
      "- **AWS Segment:** Amazon Web Services (AWS) saw a 19.1% year-over-year growth and is now at a $110 billion annualized run rate.\n",
      "\n",
      "Amazon's focus on making customers' lives better and easier, along with its long-term strategic initiatives, continues to drive its financial performance.\n",
      "\n"
     ]
    }
   ],
   "source": [
    "#foundation_model = \"anthropic.claude-3-sonnet-20240229-v1:0\"\n",
    "foundation_model = \"amazon.nova-micro-v1:0\"\n",
    "\n",
    "response = bedrock_agent_runtime_client.retrieve_and_generate(\n",
    "    input={\n",
    "        \"text\": query\n",
    "    },\n",
    "    retrieveAndGenerateConfiguration={\n",
    "        \"type\": \"KNOWLEDGE_BASE\",\n",
    "        \"knowledgeBaseConfiguration\": {\n",
    "            'knowledgeBaseId': kb_id,\n",
    "            \"modelArn\": \"arn:aws:bedrock:{}::foundation-model/{}\".format(region, foundation_model),\n",
    "            \"retrievalConfiguration\": {\n",
    "                \"vectorSearchConfiguration\": {\n",
    "                    \"numberOfResults\":5\n",
    "                } \n",
    "            }\n",
    "        }\n",
    "    }\n",
    ")\n",
    "\n",
    "print(response['output']['text'],end='\\n'*2)"
   ]
  },
  {
   "cell_type": "markdown",
   "metadata": {},
   "source": [
    "### Clean up\n",
    "Please make sure to uncomment and run the below section to delete all the resources."
   ]
  },
  {
   "cell_type": "code",
   "execution_count": 35,
   "metadata": {},
   "outputs": [
    {
     "name": "stdout",
     "output_type": "stream",
     "text": [
      "===============================Deleting Knowledge Base and associated resources==============================\n",
      "\n",
      "Deleted data source ZRFD9H6VZK\n",
      "======== Knowledge base and all data sources deleted =========\n",
      "Found bucket bedrock-bda-kb-879-2\n",
      "Deleted all objects in bucket bedrock-bda-kb-879-2\n",
      "Deleted bucket bedrock-bda-kb-879-2\n",
      "Found bucket bedrock-multi-modal-kb-1192056-intermediate-1192056-f\n",
      "Deleted all objects in bucket bedrock-multi-modal-kb-1192056-intermediate-1192056-f\n",
      "Deleted bucket bedrock-multi-modal-kb-1192056-intermediate-1192056-f\n",
      "======== S3 bucket deletion process completed =========\n",
      "Found role AmazonBedrockExecutionRoleForKnowledgeBase_1192056-f\n",
      "======Attached policies with role AmazonBedrockExecutionRoleForKnowledgeBase_1192056-f========\n",
      " [{'PolicyName': 'AmazonBedrockCloudWatchPolicyForKnowledgeBase_1192056-f', 'PolicyArn': 'arn:aws:iam::885964308737:policy/AmazonBedrockCloudWatchPolicyForKnowledgeBase_1192056-f'}, {'PolicyName': 'AmazonBedrockBDAPolicyForKnowledgeBase_1192056-f', 'PolicyArn': 'arn:aws:iam::885964308737:policy/AmazonBedrockBDAPolicyForKnowledgeBase_1192056-f'}, {'PolicyName': 'AmazonBedrockS3PolicyForKnowledgeBase_1192056-f', 'PolicyArn': 'arn:aws:iam::885964308737:policy/AmazonBedrockS3PolicyForKnowledgeBase_1192056-f'}, {'PolicyName': 'AmazonBedrockOSSPolicyForKnowledgeBase_1192056-f', 'PolicyArn': 'arn:aws:iam::885964308737:policy/AmazonBedrockOSSPolicyForKnowledgeBase_1192056-f'}, {'PolicyName': 'AmazonBedrockFoundationModelPolicyForKnowledgeBase_1192056-f', 'PolicyArn': 'arn:aws:iam::885964308737:policy/AmazonBedrockFoundationModelPolicyForKnowledgeBase_1192056-f'}]\n",
      "Detached policy AmazonBedrockCloudWatchPolicyForKnowledgeBase_1192056-f from role AmazonBedrockExecutionRoleForKnowledgeBase_1192056-f\n",
      "Deleted policy AmazonBedrockCloudWatchPolicyForKnowledgeBase_1192056-f from role AmazonBedrockExecutionRoleForKnowledgeBase_1192056-f\n",
      "Detached policy AmazonBedrockBDAPolicyForKnowledgeBase_1192056-f from role AmazonBedrockExecutionRoleForKnowledgeBase_1192056-f\n",
      "Deleted policy AmazonBedrockBDAPolicyForKnowledgeBase_1192056-f from role AmazonBedrockExecutionRoleForKnowledgeBase_1192056-f\n",
      "Detached policy AmazonBedrockS3PolicyForKnowledgeBase_1192056-f from role AmazonBedrockExecutionRoleForKnowledgeBase_1192056-f\n",
      "Deleted policy AmazonBedrockS3PolicyForKnowledgeBase_1192056-f from role AmazonBedrockExecutionRoleForKnowledgeBase_1192056-f\n",
      "Detached policy AmazonBedrockOSSPolicyForKnowledgeBase_1192056-f from role AmazonBedrockExecutionRoleForKnowledgeBase_1192056-f\n",
      "Deleted policy AmazonBedrockOSSPolicyForKnowledgeBase_1192056-f from role AmazonBedrockExecutionRoleForKnowledgeBase_1192056-f\n",
      "Detached policy AmazonBedrockFoundationModelPolicyForKnowledgeBase_1192056-f from role AmazonBedrockExecutionRoleForKnowledgeBase_1192056-f\n",
      "Deleted policy AmazonBedrockFoundationModelPolicyForKnowledgeBase_1192056-f from role AmazonBedrockExecutionRoleForKnowledgeBase_1192056-f\n",
      "Deleted role AmazonBedrockExecutionRoleForKnowledgeBase_1192056-f\n",
      "======== All IAM roles and policies deleted =========\n",
      "======== Vector Index, collection and associated policies deleted =========\n"
     ]
    }
   ],
   "source": [
    "# delete role and policies\n",
    "print(\"===============================Deleting Knowledge Base and associated resources==============================\\n\")\n",
    "knowledge_base.delete_kb(delete_s3_bucket=True, delete_iam_roles_and_policies=True)"
   ]
  },
  {
   "cell_type": "markdown",
   "metadata": {},
   "source": [
    "# Conclusion\n",
    "\n",
    "By following this guide, you can effectively harness the power of Amazon Bedrock’s features to build a robust Multimodal RAG application tailored to your specific needs."
   ]
  },
  {
   "cell_type": "code",
   "execution_count": null,
   "metadata": {},
   "outputs": [],
   "source": []
  }
 ],
 "metadata": {
  "kernelspec": {
   "display_name": "conda_python3",
   "language": "python",
   "name": "conda_python3"
  },
  "language_info": {
   "codemirror_mode": {
    "name": "ipython",
    "version": 3
   },
   "file_extension": ".py",
   "mimetype": "text/x-python",
   "name": "python",
   "nbconvert_exporter": "python",
   "pygments_lexer": "ipython3",
   "version": "3.10.18"
  }
 },
 "nbformat": 4,
 "nbformat_minor": 4
}
